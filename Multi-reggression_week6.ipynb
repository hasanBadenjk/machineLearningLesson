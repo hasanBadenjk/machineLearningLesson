{
 "cells": [
  {
   "cell_type": "code",
   "execution_count": 1,
   "id": "32645228",
   "metadata": {},
   "outputs": [],
   "source": [
    "import pandas as pd\n",
    "import numpy as np\n",
    "import matplotlib.pyplot as plt\n",
    "import seaborn as sns"
   ]
  },
  {
   "cell_type": "code",
   "execution_count": 5,
   "id": "be57d7b2",
   "metadata": {},
   "outputs": [],
   "source": [
    "data =  pd.read_csv(r\"C:\\Users\\rolak\\Downloads\\advertising.csv\")"
   ]
  },
  {
   "cell_type": "code",
   "execution_count": 6,
   "id": "7cf29364",
   "metadata": {},
   "outputs": [
    {
     "data": {
      "text/html": [
       "<div>\n",
       "<style scoped>\n",
       "    .dataframe tbody tr th:only-of-type {\n",
       "        vertical-align: middle;\n",
       "    }\n",
       "\n",
       "    .dataframe tbody tr th {\n",
       "        vertical-align: top;\n",
       "    }\n",
       "\n",
       "    .dataframe thead th {\n",
       "        text-align: right;\n",
       "    }\n",
       "</style>\n",
       "<table border=\"1\" class=\"dataframe\">\n",
       "  <thead>\n",
       "    <tr style=\"text-align: right;\">\n",
       "      <th></th>\n",
       "      <th>TV</th>\n",
       "      <th>Radio</th>\n",
       "      <th>Newspaper</th>\n",
       "      <th>Sales</th>\n",
       "    </tr>\n",
       "  </thead>\n",
       "  <tbody>\n",
       "    <tr>\n",
       "      <th>0</th>\n",
       "      <td>230.1</td>\n",
       "      <td>37.8</td>\n",
       "      <td>69.2</td>\n",
       "      <td>22.1</td>\n",
       "    </tr>\n",
       "    <tr>\n",
       "      <th>1</th>\n",
       "      <td>44.5</td>\n",
       "      <td>39.3</td>\n",
       "      <td>45.1</td>\n",
       "      <td>10.4</td>\n",
       "    </tr>\n",
       "    <tr>\n",
       "      <th>2</th>\n",
       "      <td>17.2</td>\n",
       "      <td>45.9</td>\n",
       "      <td>69.3</td>\n",
       "      <td>12.0</td>\n",
       "    </tr>\n",
       "    <tr>\n",
       "      <th>3</th>\n",
       "      <td>151.5</td>\n",
       "      <td>41.3</td>\n",
       "      <td>58.5</td>\n",
       "      <td>16.5</td>\n",
       "    </tr>\n",
       "    <tr>\n",
       "      <th>4</th>\n",
       "      <td>180.8</td>\n",
       "      <td>10.8</td>\n",
       "      <td>58.4</td>\n",
       "      <td>17.9</td>\n",
       "    </tr>\n",
       "  </tbody>\n",
       "</table>\n",
       "</div>"
      ],
      "text/plain": [
       "      TV  Radio  Newspaper  Sales\n",
       "0  230.1   37.8       69.2   22.1\n",
       "1   44.5   39.3       45.1   10.4\n",
       "2   17.2   45.9       69.3   12.0\n",
       "3  151.5   41.3       58.5   16.5\n",
       "4  180.8   10.8       58.4   17.9"
      ]
     },
     "execution_count": 6,
     "metadata": {},
     "output_type": "execute_result"
    }
   ],
   "source": [
    "data.head()"
   ]
  },
  {
   "cell_type": "code",
   "execution_count": 7,
   "id": "54bb7f47",
   "metadata": {},
   "outputs": [],
   "source": [
    "X = data[['TV', 'Radio', 'Newspaper']]\n",
    "y = data['Sales']"
   ]
  },
  {
   "cell_type": "code",
   "execution_count": 8,
   "id": "d29027f2",
   "metadata": {},
   "outputs": [],
   "source": [
    "from sklearn.model_selection import train_test_split\n",
    "\n",
    "X_train, X_test, y_train, y_test = train_test_split(X, y, test_size = 0.3, random_state = 100)"
   ]
  },
  {
   "cell_type": "code",
   "execution_count": 9,
   "id": "bba3ad17",
   "metadata": {},
   "outputs": [
    {
     "data": {
      "text/plain": [
       "LinearRegression()"
      ]
     },
     "execution_count": 9,
     "metadata": {},
     "output_type": "execute_result"
    }
   ],
   "source": [
    "from sklearn.linear_model import LinearRegression\n",
    "mlr = LinearRegression()  \n",
    "mlr.fit(X_train, y_train)"
   ]
  },
  {
   "cell_type": "code",
   "execution_count": 10,
   "id": "d033e27a",
   "metadata": {},
   "outputs": [
    {
     "name": "stdout",
     "output_type": "stream",
     "text": [
      "Intercept:  4.334595861728431\n",
      "Coefficients:\n"
     ]
    },
    {
     "data": {
      "text/plain": [
       "[('TV', 0.053829108667250075),\n",
       " ('Radio', 0.11001224388558062),\n",
       " ('Newspaper', 0.0062899501461303525)]"
      ]
     },
     "execution_count": 10,
     "metadata": {},
     "output_type": "execute_result"
    }
   ],
   "source": [
    "print(\"Intercept: \", mlr.intercept_)\n",
    "print(\"Coefficients:\")\n",
    "list(zip(X, mlr.coef_))"
   ]
  },
  {
   "cell_type": "code",
   "execution_count": 11,
   "id": "a8a21f72",
   "metadata": {},
   "outputs": [
    {
     "name": "stdout",
     "output_type": "stream",
     "text": [
      "Prediction for test set: [ 9.35221067 20.96344625 16.48851064 20.10971005 21.67148354 16.16054424\n",
      " 13.5618056  15.39338129 20.81980757 21.00537077 12.29451311 20.70848608\n",
      "  8.17367308 16.82471534 10.48954832  9.99530649 16.34698901 14.5758119\n",
      " 17.23065133 12.56890735 18.55715915 12.12402775 20.43312609 17.78017811\n",
      " 16.73623408 21.60387629 20.13532087 10.82559967 19.12782848 14.84537816\n",
      " 13.13597397  9.07757918 12.07834143 16.62824427  8.41792841 14.0456697\n",
      "  9.92050209 14.26101605 16.76262961 17.17185467 18.88797595 15.50165469\n",
      " 15.78688377 16.86266686 13.03405813 10.47673934 10.6141644  20.85264977\n",
      " 10.1517568   6.88471443 17.88702583 18.16013938 12.55907083 16.28189561\n",
      " 18.98024679 11.33714913  5.91026916 10.06159509 17.62383031 13.19628335]\n"
     ]
    }
   ],
   "source": [
    "y_pred_mlr= mlr.predict(X_test)\n",
    "print(\"Prediction for test set: {}\".format(y_pred_mlr))"
   ]
  },
  {
   "cell_type": "code",
   "execution_count": 12,
   "id": "176f424d",
   "metadata": {},
   "outputs": [
    {
     "data": {
      "text/html": [
       "<div>\n",
       "<style scoped>\n",
       "    .dataframe tbody tr th:only-of-type {\n",
       "        vertical-align: middle;\n",
       "    }\n",
       "\n",
       "    .dataframe tbody tr th {\n",
       "        vertical-align: top;\n",
       "    }\n",
       "\n",
       "    .dataframe thead th {\n",
       "        text-align: right;\n",
       "    }\n",
       "</style>\n",
       "<table border=\"1\" class=\"dataframe\">\n",
       "  <thead>\n",
       "    <tr style=\"text-align: right;\">\n",
       "      <th></th>\n",
       "      <th>Actual value</th>\n",
       "      <th>Predicted value</th>\n",
       "    </tr>\n",
       "  </thead>\n",
       "  <tbody>\n",
       "    <tr>\n",
       "      <th>126</th>\n",
       "      <td>6.6</td>\n",
       "      <td>9.352211</td>\n",
       "    </tr>\n",
       "    <tr>\n",
       "      <th>104</th>\n",
       "      <td>20.7</td>\n",
       "      <td>20.963446</td>\n",
       "    </tr>\n",
       "    <tr>\n",
       "      <th>99</th>\n",
       "      <td>17.2</td>\n",
       "      <td>16.488511</td>\n",
       "    </tr>\n",
       "    <tr>\n",
       "      <th>92</th>\n",
       "      <td>19.4</td>\n",
       "      <td>20.109710</td>\n",
       "    </tr>\n",
       "    <tr>\n",
       "      <th>111</th>\n",
       "      <td>21.8</td>\n",
       "      <td>21.671484</td>\n",
       "    </tr>\n",
       "  </tbody>\n",
       "</table>\n",
       "</div>"
      ],
      "text/plain": [
       "     Actual value  Predicted value\n",
       "126           6.6         9.352211\n",
       "104          20.7        20.963446\n",
       "99           17.2        16.488511\n",
       "92           19.4        20.109710\n",
       "111          21.8        21.671484"
      ]
     },
     "execution_count": 12,
     "metadata": {},
     "output_type": "execute_result"
    }
   ],
   "source": [
    "mlr_diff = pd.DataFrame({'Actual value': y_test, 'Predicted value': y_pred_mlr})\n",
    "mlr_diff.head()"
   ]
  },
  {
   "cell_type": "code",
   "execution_count": 13,
   "id": "ecd1386a",
   "metadata": {},
   "outputs": [
    {
     "name": "stdout",
     "output_type": "stream",
     "text": [
      "R squared: 90.11\n",
      "Mean Square Error: 2.636076562328064\n"
     ]
    }
   ],
   "source": [
    "from sklearn import metrics\n",
    "meanSqErr = metrics.mean_squared_error(y_test, y_pred_mlr)\n",
    "print('R squared: {:.2f}'.format(mlr.score(X,y)*100))\n",
    "print('Mean Square Error:', meanSqErr)"
   ]
  }
 ],
 "metadata": {
  "kernelspec": {
   "display_name": "Python 3 (ipykernel)",
   "language": "python",
   "name": "python3"
  },
  "language_info": {
   "codemirror_mode": {
    "name": "ipython",
    "version": 3
   },
   "file_extension": ".py",
   "mimetype": "text/x-python",
   "name": "python",
   "nbconvert_exporter": "python",
   "pygments_lexer": "ipython3",
   "version": "3.9.13"
  }
 },
 "nbformat": 4,
 "nbformat_minor": 5
}
