{
 "cells": [
  {
   "cell_type": "code",
   "execution_count": null,
   "id": "2991eb68",
   "metadata": {},
   "outputs": [],
   "source": [
    "import random\n",
    "\n",
    "# initialize the doors with goats and one car randomly\n",
    "doors = [\"goat\", \"goat\", \"car\"]\n",
    "random.shuffle(doors)\n",
    "\n",
    "for i in range(3):\n",
    "    # display the doors to the player\n",
    "    print(\"Choose a door: \")\n",
    "    print(\"1. Door 1\")\n",
    "    print(\"2. Door 2\")\n",
    "    print(\"3. Door 3\")\n",
    "\n",
    "    # player selects a door\n",
    "    player_choice = int(input(\"Enter your choice (1-3): \"))\n",
    "\n",
    "    # check if the player has won\n",
    "    if doors[player_choice-1] == \"car\":\n",
    "        print(\"Congratulations! You won the car!\")\n",
    "        break\n",
    "    else:\n",
    "        print(\"Sorry, that's not the car. Try again!\\n\")\n"
   ]
  }
 ],
 "metadata": {
  "kernelspec": {
   "display_name": "Python 3 (ipykernel)",
   "language": "python",
   "name": "python3"
  },
  "language_info": {
   "codemirror_mode": {
    "name": "ipython",
    "version": 3
   },
   "file_extension": ".py",
   "mimetype": "text/x-python",
   "name": "python",
   "nbconvert_exporter": "python",
   "pygments_lexer": "ipython3",
   "version": "3.9.13"
  }
 },
 "nbformat": 4,
 "nbformat_minor": 5
}
