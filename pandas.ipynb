{
 "cells": [
  {
   "cell_type": "code",
   "execution_count": 24,
   "id": "204b4d32",
   "metadata": {},
   "outputs": [],
   "source": [
    "import pandas as pd\n"
   ]
  },
  {
   "cell_type": "code",
   "execution_count": 89,
   "id": "a6b42fca",
   "metadata": {},
   "outputs": [
    {
     "name": "stdout",
     "output_type": "stream",
     "text": [
      "                              UNIVERSITY       CITY PROVINCE   STATUS  YEAR  \\\n",
      "0                     Harvard University  Cambridge       MA  Private  1960   \n",
      "1  Massachusetts Institute of Technology  Cambridge       MA  Private  1980   \n",
      "2     California Institute of Technology   Pasadena       CA  Private  1930   \n",
      "3               University of California   Berkeley       CA   Public  1955   \n",
      "\n",
      "   GLOBALSCORE  \n",
      "0        100.0  \n",
      "1         97.7  \n",
      "2         88.7  \n",
      "3         86.8  \n"
     ]
    }
   ],
   "source": [
    "\n",
    "TOP10_UNIVERITIES = {\"UNIVERSITY\":[\"Harvard University\",\"Massachusetts Institute of Technology\",\"California Institute of Technology\",\"University of California\"],\n",
    "            \"CITY\":[\"Cambridge\",\"Cambridge\",\"Pasadena\",\"Berkeley\"],\n",
    "       \"PROVINCE\":[\"MA\",\"MA\",\"CA\",\"CA\"],\n",
    "           \"STATUS\":[\"Private\",\"Private\",\"Private\",\"Public\"],\n",
    "                    \"YEAR\":[1960,1980,1930,1955],\n",
    "                    \"GLOBALSCORE\":[100.0,97.7,88.7,86.8]}\n",
    "universityData = pd.DataFrame(TOP10_UNIVERITIES)\n",
    "print(universityData)"
   ]
  },
  {
   "cell_type": "code",
   "execution_count": 90,
   "id": "193ba3ff",
   "metadata": {},
   "outputs": [
    {
     "name": "stdout",
     "output_type": "stream",
     "text": [
      "                              UNIVERSITY       CITY PROVINCE   STATUS  YEAR  \\\n",
      "0                     Harvard University  Cambridge       MA  Private  1960   \n",
      "1  Massachusetts Institute of Technology  Cambridge       MA  Private  1980   \n",
      "2     California Institute of Technology   Pasadena       CA  Private  1930   \n",
      "3               University of California   Berkeley       CA   Public  1955   \n",
      "\n",
      "   GLOBALSCORE  \n",
      "0        100.0  \n",
      "1         97.7  \n",
      "2         88.7  \n",
      "3         86.8  \n"
     ]
    }
   ],
   "source": [
    "head = universityData.head()\n",
    "print(head)"
   ]
  },
  {
   "cell_type": "code",
   "execution_count": 91,
   "id": "bdcd2878",
   "metadata": {},
   "outputs": [
    {
     "name": "stdout",
     "output_type": "stream",
     "text": [
      "Index(['UNIVERSITY', 'CITY', 'PROVINCE', 'STATUS', 'YEAR', 'GLOBALSCORE'], dtype='object')\n"
     ]
    }
   ],
   "source": [
    "print(universityData.columns)"
   ]
  },
  {
   "cell_type": "code",
   "execution_count": 92,
   "id": "ffb8256f",
   "metadata": {},
   "outputs": [
    {
     "name": "stdout",
     "output_type": "stream",
     "text": [
      "<class 'pandas.core.frame.DataFrame'>\n",
      "RangeIndex: 4 entries, 0 to 3\n",
      "Data columns (total 6 columns):\n",
      " #   Column       Non-Null Count  Dtype  \n",
      "---  ------       --------------  -----  \n",
      " 0   UNIVERSITY   4 non-null      object \n",
      " 1   CITY         4 non-null      object \n",
      " 2   PROVINCE     4 non-null      object \n",
      " 3   STATUS       4 non-null      object \n",
      " 4   YEAR         4 non-null      int64  \n",
      " 5   GLOBALSCORE  4 non-null      float64\n",
      "dtypes: float64(1), int64(1), object(4)\n",
      "memory usage: 320.0+ bytes\n",
      "None\n"
     ]
    }
   ],
   "source": [
    "print(universityData.info())"
   ]
  },
  {
   "cell_type": "code",
   "execution_count": 93,
   "id": "8be90726",
   "metadata": {},
   "outputs": [
    {
     "name": "stdout",
     "output_type": "stream",
     "text": [
      "UNIVERSITY      object\n",
      "CITY            object\n",
      "PROVINCE        object\n",
      "STATUS          object\n",
      "YEAR             int64\n",
      "GLOBALSCORE    float64\n",
      "dtype: object\n"
     ]
    }
   ],
   "source": [
    "print(universityData.dtypes)"
   ]
  },
  {
   "cell_type": "code",
   "execution_count": 94,
   "id": "66c3037b",
   "metadata": {},
   "outputs": [
    {
     "name": "stdout",
     "output_type": "stream",
     "text": [
      "              YEAR  GLOBALSCORE\n",
      "count     4.000000     4.000000\n",
      "mean   1956.250000    93.300000\n",
      "std      20.564938     6.523292\n",
      "min    1930.000000    86.800000\n",
      "25%    1948.750000    88.225000\n",
      "50%    1957.500000    93.200000\n",
      "75%    1965.000000    98.275000\n",
      "max    1980.000000   100.000000\n"
     ]
    }
   ],
   "source": [
    "print(universityData.describe())"
   ]
  },
  {
   "cell_type": "code",
   "execution_count": 95,
   "id": "e711514f",
   "metadata": {},
   "outputs": [
    {
     "name": "stdout",
     "output_type": "stream",
     "text": [
      "0                       Harvard University\n",
      "1    Massachusetts Institute of Technology\n",
      "2       California Institute of Technology\n",
      "3                 University of California\n",
      "Name: UNIVERSITY, dtype: object\n"
     ]
    }
   ],
   "source": [
    "print(universityData[\"UNIVERSITY\"])"
   ]
  },
  {
   "cell_type": "code",
   "execution_count": 96,
   "id": "c1a6d190",
   "metadata": {},
   "outputs": [
    {
     "name": "stdout",
     "output_type": "stream",
     "text": [
      "0    Cambridge\n",
      "1    Cambridge\n",
      "2     Pasadena\n",
      "3     Berkeley\n",
      "Name: CITY, dtype: object\n"
     ]
    }
   ],
   "source": [
    "print(universityData[\"CITY\"])"
   ]
  },
  {
   "cell_type": "code",
   "execution_count": 97,
   "id": "0d2993ed",
   "metadata": {},
   "outputs": [
    {
     "name": "stdout",
     "output_type": "stream",
     "text": [
      "0    MA\n",
      "1    MA\n",
      "2    CA\n",
      "3    CA\n",
      "Name: PROVINCE, dtype: object\n"
     ]
    }
   ],
   "source": [
    "print(universityData.loc[:,\"PROVINCE\"])"
   ]
  },
  {
   "cell_type": "code",
   "execution_count": 98,
   "id": "59cd0aba",
   "metadata": {},
   "outputs": [
    {
     "name": "stdout",
     "output_type": "stream",
     "text": [
      "                              UNIVERSITY       CITY PROVINCE   STATUS  YEAR  \\\n",
      "0                     Harvard University  Cambridge       MA  Private  1960   \n",
      "1  Massachusetts Institute of Technology  Cambridge       MA  Private  1980   \n",
      "2     California Institute of Technology   Pasadena       CA  Private  1930   \n",
      "3               University of California   Berkeley       CA   Public  1955   \n",
      "\n",
      "   GLOBALSCORE  \n",
      "0        100.0  \n",
      "1         97.7  \n",
      "2         88.7  \n",
      "3         86.8  \n"
     ]
    }
   ],
   "source": [
    "print(universityData)"
   ]
  },
  {
   "cell_type": "code",
   "execution_count": 99,
   "id": "fe91225e",
   "metadata": {},
   "outputs": [],
   "source": [
    "universityData[\"YEAR\"] =[1990,1932,1899,1850]"
   ]
  },
  {
   "cell_type": "code",
   "execution_count": 100,
   "id": "efeef716",
   "metadata": {},
   "outputs": [
    {
     "name": "stdout",
     "output_type": "stream",
     "text": [
      "                              UNIVERSITY       CITY PROVINCE   STATUS  YEAR  \\\n",
      "0                     Harvard University  Cambridge       MA  Private  1990   \n",
      "1  Massachusetts Institute of Technology  Cambridge       MA  Private  1932   \n",
      "2     California Institute of Technology   Pasadena       CA  Private  1899   \n",
      "3               University of California   Berkeley       CA   Public  1850   \n",
      "\n",
      "   GLOBALSCORE  \n",
      "0        100.0  \n",
      "1         97.7  \n",
      "2         88.7  \n",
      "3         86.8  \n"
     ]
    }
   ],
   "source": [
    "print(universityData)"
   ]
  },
  {
   "cell_type": "code",
   "execution_count": 101,
   "id": "2475e34b",
   "metadata": {},
   "outputs": [
    {
     "name": "stdout",
     "output_type": "stream",
     "text": [
      "1    Massachusetts Institute of Technology\n",
      "2       California Institute of Technology\n",
      "3                 University of California\n",
      "Name: UNIVERSITY, dtype: object\n"
     ]
    }
   ],
   "source": [
    "print(universityData.loc[1:3,\"UNIVERSITY\"])"
   ]
  },
  {
   "cell_type": "code",
   "execution_count": 102,
   "id": "dd1a3b52",
   "metadata": {},
   "outputs": [
    {
     "name": "stdout",
     "output_type": "stream",
     "text": [
      "0    Private\n",
      "1    Private\n",
      "2    Private\n",
      "3     Public\n",
      "Name: STATUS, dtype: object\n"
     ]
    }
   ],
   "source": [
    "print(universityData.loc[:3,\"STATUS\"])\n"
   ]
  },
  {
   "cell_type": "code",
   "execution_count": 103,
   "id": "35805b74",
   "metadata": {},
   "outputs": [
    {
     "name": "stdout",
     "output_type": "stream",
     "text": [
      "                              UNIVERSITY       CITY PROVINCE   STATUS  YEAR  \\\n",
      "3               University of California   Berkeley       CA   Public  1850   \n",
      "2     California Institute of Technology   Pasadena       CA  Private  1899   \n",
      "1  Massachusetts Institute of Technology  Cambridge       MA  Private  1932   \n",
      "0                     Harvard University  Cambridge       MA  Private  1990   \n",
      "\n",
      "   GLOBALSCORE  \n",
      "3         86.8  \n",
      "2         88.7  \n",
      "1         97.7  \n",
      "0        100.0  \n"
     ]
    }
   ],
   "source": [
    "print(universityData.loc[::-1])\n"
   ]
  },
  {
   "cell_type": "code",
   "execution_count": 104,
   "id": "175002d3",
   "metadata": {},
   "outputs": [
    {
     "name": "stdout",
     "output_type": "stream",
     "text": [
      "   YEAR   BOOL\n",
      "0  1990   True\n",
      "1  1932   True\n",
      "2  1899   True\n",
      "3  1850  False\n"
     ]
    }
   ],
   "source": [
    "universityFilter= universityData.YEAR>1890\n",
    "universityData[\"BOOL\"]=universityFilter\n",
    "print(universityData.loc[:,[\"YEAR\",\"BOOL\"]])"
   ]
  },
  {
   "cell_type": "code",
   "execution_count": 105,
   "id": "65c84f1a",
   "metadata": {},
   "outputs": [
    {
     "name": "stdout",
     "output_type": "stream",
     "text": [
      "                              UNIVERSITY       CITY PROVINCE   STATUS  YEAR  \\\n",
      "0                     Harvard University  Cambridge       MA  Private  1990   \n",
      "1  Massachusetts Institute of Technology  Cambridge       MA  Private  1932   \n",
      "2     California Institute of Technology   Pasadena       CA  Private  1899   \n",
      "3               University of California   Berkeley       CA   Public  1850   \n",
      "\n",
      "   GLOBALSCORE   BOOL  \n",
      "0        100.0   True  \n",
      "1         97.7   True  \n",
      "2         88.7   True  \n",
      "3         86.8  False  \n"
     ]
    }
   ],
   "source": [
    "print(universityData)"
   ]
  },
  {
   "cell_type": "code",
   "execution_count": 106,
   "id": "ad3ee637",
   "metadata": {},
   "outputs": [
    {
     "name": "stdout",
     "output_type": "stream",
     "text": [
      "                           UNIVERSITY      CITY PROVINCE   STATUS  YEAR  \\\n",
      "2  California Institute of Technology  Pasadena       CA  Private  1899   \n",
      "\n",
      "   GLOBALSCORE  BOOL  \n",
      "2         88.7  True  \n"
     ]
    }
   ],
   "source": [
    "universityFilter2 = universityData.GLOBALSCORE<90\n",
    "Filtered=universityData[universityFilter&universityFilter2]\n",
    "print(Filtered)"
   ]
  },
  {
   "cell_type": "code",
   "execution_count": 107,
   "id": "0e0eef74",
   "metadata": {},
   "outputs": [
    {
     "data": {
      "text/html": [
       "<div>\n",
       "<style scoped>\n",
       "    .dataframe tbody tr th:only-of-type {\n",
       "        vertical-align: middle;\n",
       "    }\n",
       "\n",
       "    .dataframe tbody tr th {\n",
       "        vertical-align: top;\n",
       "    }\n",
       "\n",
       "    .dataframe thead th {\n",
       "        text-align: right;\n",
       "    }\n",
       "</style>\n",
       "<table border=\"1\" class=\"dataframe\">\n",
       "  <thead>\n",
       "    <tr style=\"text-align: right;\">\n",
       "      <th></th>\n",
       "      <th>UNIVERSITY</th>\n",
       "      <th>CITY</th>\n",
       "      <th>PROVINCE</th>\n",
       "      <th>STATUS</th>\n",
       "      <th>YEAR</th>\n",
       "      <th>GLOBALSCORE</th>\n",
       "      <th>BOOL</th>\n",
       "    </tr>\n",
       "  </thead>\n",
       "  <tbody>\n",
       "    <tr>\n",
       "      <th>0</th>\n",
       "      <td>Harvard University</td>\n",
       "      <td>Cambridge</td>\n",
       "      <td>MA</td>\n",
       "      <td>Private</td>\n",
       "      <td>1990</td>\n",
       "      <td>100.0</td>\n",
       "      <td>True</td>\n",
       "    </tr>\n",
       "    <tr>\n",
       "      <th>1</th>\n",
       "      <td>Massachusetts Institute of Technology</td>\n",
       "      <td>Cambridge</td>\n",
       "      <td>MA</td>\n",
       "      <td>Private</td>\n",
       "      <td>1932</td>\n",
       "      <td>97.7</td>\n",
       "      <td>True</td>\n",
       "    </tr>\n",
       "    <tr>\n",
       "      <th>2</th>\n",
       "      <td>California Institute of Technology</td>\n",
       "      <td>Pasadena</td>\n",
       "      <td>CA</td>\n",
       "      <td>Private</td>\n",
       "      <td>1899</td>\n",
       "      <td>88.7</td>\n",
       "      <td>True</td>\n",
       "    </tr>\n",
       "    <tr>\n",
       "      <th>3</th>\n",
       "      <td>University of California</td>\n",
       "      <td>Berkeley</td>\n",
       "      <td>CA</td>\n",
       "      <td>Public</td>\n",
       "      <td>1850</td>\n",
       "      <td>86.8</td>\n",
       "      <td>False</td>\n",
       "    </tr>\n",
       "  </tbody>\n",
       "</table>\n",
       "</div>"
      ],
      "text/plain": [
       "                              UNIVERSITY       CITY PROVINCE   STATUS  YEAR  \\\n",
       "0                     Harvard University  Cambridge       MA  Private  1990   \n",
       "1  Massachusetts Institute of Technology  Cambridge       MA  Private  1932   \n",
       "2     California Institute of Technology   Pasadena       CA  Private  1899   \n",
       "3               University of California   Berkeley       CA   Public  1850   \n",
       "\n",
       "   GLOBALSCORE   BOOL  \n",
       "0        100.0   True  \n",
       "1         97.7   True  \n",
       "2         88.7   True  \n",
       "3         86.8  False  "
      ]
     },
     "execution_count": 107,
     "metadata": {},
     "output_type": "execute_result"
    }
   ],
   "source": [
    "universityData.dropna(inplace=True)\n",
    "universityData"
   ]
  },
  {
   "cell_type": "code",
   "execution_count": 108,
   "id": "6a9727df",
   "metadata": {},
   "outputs": [
    {
     "data": {
      "text/html": [
       "<div>\n",
       "<style scoped>\n",
       "    .dataframe tbody tr th:only-of-type {\n",
       "        vertical-align: middle;\n",
       "    }\n",
       "\n",
       "    .dataframe tbody tr th {\n",
       "        vertical-align: top;\n",
       "    }\n",
       "\n",
       "    .dataframe thead th {\n",
       "        text-align: right;\n",
       "    }\n",
       "</style>\n",
       "<table border=\"1\" class=\"dataframe\">\n",
       "  <thead>\n",
       "    <tr style=\"text-align: right;\">\n",
       "      <th></th>\n",
       "      <th>UNIVERSITY</th>\n",
       "      <th>CITY</th>\n",
       "      <th>PROVINCE</th>\n",
       "      <th>STATUS</th>\n",
       "      <th>YEAR</th>\n",
       "      <th>GLOBALSCORE</th>\n",
       "      <th>BOOL</th>\n",
       "      <th>PROGRAM</th>\n",
       "    </tr>\n",
       "  </thead>\n",
       "  <tbody>\n",
       "    <tr>\n",
       "      <th>0</th>\n",
       "      <td>Harvard University</td>\n",
       "      <td>Cambridge</td>\n",
       "      <td>MA</td>\n",
       "      <td>Private</td>\n",
       "      <td>1990</td>\n",
       "      <td>100.0</td>\n",
       "      <td>True</td>\n",
       "      <td>Online</td>\n",
       "    </tr>\n",
       "    <tr>\n",
       "      <th>1</th>\n",
       "      <td>Massachusetts Institute of Technology</td>\n",
       "      <td>Cambridge</td>\n",
       "      <td>MA</td>\n",
       "      <td>Private</td>\n",
       "      <td>1932</td>\n",
       "      <td>97.7</td>\n",
       "      <td>True</td>\n",
       "      <td>Online</td>\n",
       "    </tr>\n",
       "    <tr>\n",
       "      <th>2</th>\n",
       "      <td>California Institute of Technology</td>\n",
       "      <td>Pasadena</td>\n",
       "      <td>CA</td>\n",
       "      <td>Private</td>\n",
       "      <td>1899</td>\n",
       "      <td>88.7</td>\n",
       "      <td>True</td>\n",
       "      <td>face to face</td>\n",
       "    </tr>\n",
       "    <tr>\n",
       "      <th>3</th>\n",
       "      <td>University of California</td>\n",
       "      <td>Berkeley</td>\n",
       "      <td>CA</td>\n",
       "      <td>Public</td>\n",
       "      <td>1850</td>\n",
       "      <td>86.8</td>\n",
       "      <td>False</td>\n",
       "      <td>face to face</td>\n",
       "    </tr>\n",
       "  </tbody>\n",
       "</table>\n",
       "</div>"
      ],
      "text/plain": [
       "                              UNIVERSITY       CITY PROVINCE   STATUS  YEAR  \\\n",
       "0                     Harvard University  Cambridge       MA  Private  1990   \n",
       "1  Massachusetts Institute of Technology  Cambridge       MA  Private  1932   \n",
       "2     California Institute of Technology   Pasadena       CA  Private  1899   \n",
       "3               University of California   Berkeley       CA   Public  1850   \n",
       "\n",
       "   GLOBALSCORE   BOOL       PROGRAM  \n",
       "0        100.0   True        Online  \n",
       "1         97.7   True        Online  \n",
       "2         88.7   True  face to face  \n",
       "3         86.8  False  face to face  "
      ]
     },
     "execution_count": 108,
     "metadata": {},
     "output_type": "execute_result"
    }
   ],
   "source": [
    "universityData[\"PROGRAM\"]=[\"face to face\" if universityData.YEAR.mean()>each else \"Online\" for each in universityData.YEAR]\n",
    "universityData"
   ]
  },
  {
   "cell_type": "code",
   "execution_count": 109,
   "id": "c0187e51",
   "metadata": {},
   "outputs": [
    {
     "data": {
      "text/html": [
       "<div>\n",
       "<style scoped>\n",
       "    .dataframe tbody tr th:only-of-type {\n",
       "        vertical-align: middle;\n",
       "    }\n",
       "\n",
       "    .dataframe tbody tr th {\n",
       "        vertical-align: top;\n",
       "    }\n",
       "\n",
       "    .dataframe thead th {\n",
       "        text-align: right;\n",
       "    }\n",
       "</style>\n",
       "<table border=\"1\" class=\"dataframe\">\n",
       "  <thead>\n",
       "    <tr style=\"text-align: right;\">\n",
       "      <th></th>\n",
       "      <th>UNIVERSITY</th>\n",
       "      <th>CITY</th>\n",
       "      <th>PROVINCE</th>\n",
       "      <th>STATUS</th>\n",
       "      <th>YEAR</th>\n",
       "      <th>GLOBALSCORE</th>\n",
       "      <th>BOOL</th>\n",
       "      <th>PROGRAM</th>\n",
       "    </tr>\n",
       "  </thead>\n",
       "  <tbody>\n",
       "    <tr>\n",
       "      <th>0</th>\n",
       "      <td>Harvard University</td>\n",
       "      <td>Cambridge</td>\n",
       "      <td>MA</td>\n",
       "      <td>Private</td>\n",
       "      <td>1990</td>\n",
       "      <td>100.0</td>\n",
       "      <td>True</td>\n",
       "      <td>Online</td>\n",
       "    </tr>\n",
       "    <tr>\n",
       "      <th>1</th>\n",
       "      <td>Massachusetts Institute of Technology</td>\n",
       "      <td>Cambridge</td>\n",
       "      <td>MA</td>\n",
       "      <td>Private</td>\n",
       "      <td>1932</td>\n",
       "      <td>97.7</td>\n",
       "      <td>True</td>\n",
       "      <td>Online</td>\n",
       "    </tr>\n",
       "    <tr>\n",
       "      <th>2</th>\n",
       "      <td>California Institute of Technology</td>\n",
       "      <td>Pasadena</td>\n",
       "      <td>CA</td>\n",
       "      <td>Private</td>\n",
       "      <td>1899</td>\n",
       "      <td>88.7</td>\n",
       "      <td>True</td>\n",
       "      <td>face to face</td>\n",
       "    </tr>\n",
       "    <tr>\n",
       "      <th>3</th>\n",
       "      <td>University of California</td>\n",
       "      <td>Berkeley</td>\n",
       "      <td>CA</td>\n",
       "      <td>Public</td>\n",
       "      <td>1850</td>\n",
       "      <td>86.8</td>\n",
       "      <td>False</td>\n",
       "      <td>face to face</td>\n",
       "    </tr>\n",
       "  </tbody>\n",
       "</table>\n",
       "</div>"
      ],
      "text/plain": [
       "                              UNIVERSITY       CITY PROVINCE   STATUS  YEAR  \\\n",
       "0                     Harvard University  Cambridge       MA  Private  1990   \n",
       "1  Massachusetts Institute of Technology  Cambridge       MA  Private  1932   \n",
       "2     California Institute of Technology   Pasadena       CA  Private  1899   \n",
       "3               University of California   Berkeley       CA   Public  1850   \n",
       "\n",
       "   GLOBALSCORE   BOOL       PROGRAM  \n",
       "0        100.0   True        Online  \n",
       "1         97.7   True        Online  \n",
       "2         88.7   True  face to face  \n",
       "3         86.8  False  face to face  "
      ]
     },
     "execution_count": 109,
     "metadata": {},
     "output_type": "execute_result"
    }
   ],
   "source": [
    "universityData.columns = [each.split('_')[0]+ \" \"+ each.split('_')[1] if len(each.split('_'))>1 else each for each in universityData.columns]\n",
    "universityData"
   ]
  },
  {
   "cell_type": "code",
   "execution_count": 110,
   "id": "c77e0992",
   "metadata": {},
   "outputs": [
    {
     "data": {
      "text/plain": [
       "Index(['university', 'city', 'province', 'status', 'year', 'globalscore',\n",
       "       'bool', 'program'],\n",
       "      dtype='object')"
      ]
     },
     "execution_count": 110,
     "metadata": {},
     "output_type": "execute_result"
    }
   ],
   "source": [
    "universityData.columns=[each.lower() for each in universityData.columns]\n",
    "universityData.columns"
   ]
  },
  {
   "cell_type": "code",
   "execution_count": 113,
   "id": "6ebeb808",
   "metadata": {},
   "outputs": [
    {
     "data": {
      "text/plain": [
       "Index(['UNIVERSITY', 'CITY', 'PROVINCE', 'STATUS', 'YEAR', 'GLOBALSCORE',\n",
       "       'BOOL', 'PROGRAM'],\n",
       "      dtype='object')"
      ]
     },
     "execution_count": 113,
     "metadata": {},
     "output_type": "execute_result"
    }
   ],
   "source": [
    "universityData.columns=[each.upper() for each in universityData.columns]\n",
    "universityData.columns"
   ]
  },
  {
   "cell_type": "code",
   "execution_count": 114,
   "id": "e2de4e21",
   "metadata": {},
   "outputs": [
    {
     "data": {
      "text/html": [
       "<div>\n",
       "<style scoped>\n",
       "    .dataframe tbody tr th:only-of-type {\n",
       "        vertical-align: middle;\n",
       "    }\n",
       "\n",
       "    .dataframe tbody tr th {\n",
       "        vertical-align: top;\n",
       "    }\n",
       "\n",
       "    .dataframe thead th {\n",
       "        text-align: right;\n",
       "    }\n",
       "</style>\n",
       "<table border=\"1\" class=\"dataframe\">\n",
       "  <thead>\n",
       "    <tr style=\"text-align: right;\">\n",
       "      <th></th>\n",
       "      <th>UNIVERSITY</th>\n",
       "      <th>CITY</th>\n",
       "      <th>PROVINCE</th>\n",
       "      <th>STATUS</th>\n",
       "      <th>YEAR</th>\n",
       "      <th>GLOBALSCORE</th>\n",
       "      <th>BOOL</th>\n",
       "      <th>PROGRAM</th>\n",
       "    </tr>\n",
       "  </thead>\n",
       "  <tbody>\n",
       "    <tr>\n",
       "      <th>0</th>\n",
       "      <td>Harvard University</td>\n",
       "      <td>Cambridge</td>\n",
       "      <td>MA</td>\n",
       "      <td>Private</td>\n",
       "      <td>1990</td>\n",
       "      <td>100.0</td>\n",
       "      <td>True</td>\n",
       "      <td>Online</td>\n",
       "    </tr>\n",
       "    <tr>\n",
       "      <th>1</th>\n",
       "      <td>Massachusetts Institute of Technology</td>\n",
       "      <td>Cambridge</td>\n",
       "      <td>MA</td>\n",
       "      <td>Private</td>\n",
       "      <td>1932</td>\n",
       "      <td>97.7</td>\n",
       "      <td>True</td>\n",
       "      <td>Online</td>\n",
       "    </tr>\n",
       "    <tr>\n",
       "      <th>2</th>\n",
       "      <td>California Institute of Technology</td>\n",
       "      <td>Pasadena</td>\n",
       "      <td>CA</td>\n",
       "      <td>Private</td>\n",
       "      <td>1899</td>\n",
       "      <td>88.7</td>\n",
       "      <td>True</td>\n",
       "      <td>face to face</td>\n",
       "    </tr>\n",
       "    <tr>\n",
       "      <th>3</th>\n",
       "      <td>University of California</td>\n",
       "      <td>Berkeley</td>\n",
       "      <td>CA</td>\n",
       "      <td>Public</td>\n",
       "      <td>1850</td>\n",
       "      <td>86.8</td>\n",
       "      <td>False</td>\n",
       "      <td>face to face</td>\n",
       "    </tr>\n",
       "    <tr>\n",
       "      <th>0</th>\n",
       "      <td>Harvard University</td>\n",
       "      <td>Cambridge</td>\n",
       "      <td>MA</td>\n",
       "      <td>Private</td>\n",
       "      <td>1990</td>\n",
       "      <td>100.0</td>\n",
       "      <td>True</td>\n",
       "      <td>Online</td>\n",
       "    </tr>\n",
       "    <tr>\n",
       "      <th>1</th>\n",
       "      <td>Massachusetts Institute of Technology</td>\n",
       "      <td>Cambridge</td>\n",
       "      <td>MA</td>\n",
       "      <td>Private</td>\n",
       "      <td>1932</td>\n",
       "      <td>97.7</td>\n",
       "      <td>True</td>\n",
       "      <td>Online</td>\n",
       "    </tr>\n",
       "    <tr>\n",
       "      <th>2</th>\n",
       "      <td>California Institute of Technology</td>\n",
       "      <td>Pasadena</td>\n",
       "      <td>CA</td>\n",
       "      <td>Private</td>\n",
       "      <td>1899</td>\n",
       "      <td>88.7</td>\n",
       "      <td>True</td>\n",
       "      <td>face to face</td>\n",
       "    </tr>\n",
       "    <tr>\n",
       "      <th>3</th>\n",
       "      <td>University of California</td>\n",
       "      <td>Berkeley</td>\n",
       "      <td>CA</td>\n",
       "      <td>Public</td>\n",
       "      <td>1850</td>\n",
       "      <td>86.8</td>\n",
       "      <td>False</td>\n",
       "      <td>face to face</td>\n",
       "    </tr>\n",
       "  </tbody>\n",
       "</table>\n",
       "</div>"
      ],
      "text/plain": [
       "                              UNIVERSITY       CITY PROVINCE   STATUS  YEAR  \\\n",
       "0                     Harvard University  Cambridge       MA  Private  1990   \n",
       "1  Massachusetts Institute of Technology  Cambridge       MA  Private  1932   \n",
       "2     California Institute of Technology   Pasadena       CA  Private  1899   \n",
       "3               University of California   Berkeley       CA   Public  1850   \n",
       "0                     Harvard University  Cambridge       MA  Private  1990   \n",
       "1  Massachusetts Institute of Technology  Cambridge       MA  Private  1932   \n",
       "2     California Institute of Technology   Pasadena       CA  Private  1899   \n",
       "3               University of California   Berkeley       CA   Public  1850   \n",
       "\n",
       "   GLOBALSCORE   BOOL       PROGRAM  \n",
       "0        100.0   True        Online  \n",
       "1         97.7   True        Online  \n",
       "2         88.7   True  face to face  \n",
       "3         86.8  False  face to face  \n",
       "0        100.0   True        Online  \n",
       "1         97.7   True        Online  \n",
       "2         88.7   True  face to face  \n",
       "3         86.8  False  face to face  "
      ]
     },
     "execution_count": 114,
     "metadata": {},
     "output_type": "execute_result"
    }
   ],
   "source": [
    "Data1=universityData.head()\n",
    "Data2=universityData.tail()\n",
    "connect=pd.concat([Data1,Data2],axis=0)\n",
    "connect"
   ]
  },
  {
   "cell_type": "code",
   "execution_count": 123,
   "id": "1eb51c59",
   "metadata": {},
   "outputs": [
    {
     "data": {
      "text/html": [
       "<div>\n",
       "<style scoped>\n",
       "    .dataframe tbody tr th:only-of-type {\n",
       "        vertical-align: middle;\n",
       "    }\n",
       "\n",
       "    .dataframe tbody tr th {\n",
       "        vertical-align: top;\n",
       "    }\n",
       "\n",
       "    .dataframe thead th {\n",
       "        text-align: right;\n",
       "    }\n",
       "</style>\n",
       "<table border=\"1\" class=\"dataframe\">\n",
       "  <thead>\n",
       "    <tr style=\"text-align: right;\">\n",
       "      <th></th>\n",
       "      <th>UNIVERSITY</th>\n",
       "      <th>CITY</th>\n",
       "      <th>PROVINCE</th>\n",
       "      <th>STATUS</th>\n",
       "      <th>YEAR</th>\n",
       "      <th>GLOBALSCORE</th>\n",
       "      <th>BOOL</th>\n",
       "      <th>PROGRAM</th>\n",
       "      <th>ENROLLMENT</th>\n",
       "    </tr>\n",
       "  </thead>\n",
       "  <tbody>\n",
       "    <tr>\n",
       "      <th>0</th>\n",
       "      <td>Harvard University</td>\n",
       "      <td>Cambridge</td>\n",
       "      <td>MA</td>\n",
       "      <td>Private</td>\n",
       "      <td>1990</td>\n",
       "      <td>100.0</td>\n",
       "      <td>True</td>\n",
       "      <td>Online</td>\n",
       "      <td>85.000</td>\n",
       "    </tr>\n",
       "    <tr>\n",
       "      <th>1</th>\n",
       "      <td>Massachusetts Institute of Technology</td>\n",
       "      <td>Cambridge</td>\n",
       "      <td>MA</td>\n",
       "      <td>Private</td>\n",
       "      <td>1932</td>\n",
       "      <td>97.7</td>\n",
       "      <td>True</td>\n",
       "      <td>Online</td>\n",
       "      <td>83.045</td>\n",
       "    </tr>\n",
       "    <tr>\n",
       "      <th>2</th>\n",
       "      <td>California Institute of Technology</td>\n",
       "      <td>Pasadena</td>\n",
       "      <td>CA</td>\n",
       "      <td>Private</td>\n",
       "      <td>1899</td>\n",
       "      <td>88.7</td>\n",
       "      <td>True</td>\n",
       "      <td>face to face</td>\n",
       "      <td>75.395</td>\n",
       "    </tr>\n",
       "    <tr>\n",
       "      <th>3</th>\n",
       "      <td>University of California</td>\n",
       "      <td>Berkeley</td>\n",
       "      <td>CA</td>\n",
       "      <td>Public</td>\n",
       "      <td>1850</td>\n",
       "      <td>86.8</td>\n",
       "      <td>False</td>\n",
       "      <td>face to face</td>\n",
       "      <td>73.780</td>\n",
       "    </tr>\n",
       "  </tbody>\n",
       "</table>\n",
       "</div>"
      ],
      "text/plain": [
       "                              UNIVERSITY       CITY PROVINCE   STATUS  YEAR  \\\n",
       "0                     Harvard University  Cambridge       MA  Private  1990   \n",
       "1  Massachusetts Institute of Technology  Cambridge       MA  Private  1932   \n",
       "2     California Institute of Technology   Pasadena       CA  Private  1899   \n",
       "3               University of California   Berkeley       CA   Public  1850   \n",
       "\n",
       "   GLOBALSCORE   BOOL       PROGRAM  ENROLLMENT  \n",
       "0        100.0   True        Online      85.000  \n",
       "1         97.7   True        Online      83.045  \n",
       "2         88.7   True  face to face      75.395  \n",
       "3         86.8  False  face to face      73.780  "
      ]
     },
     "execution_count": 123,
     "metadata": {},
     "output_type": "execute_result"
    }
   ],
   "source": [
    "universityData[\"ENROLLMENT\"]= [(each*8.5)/10 for each in universityData.GLOBALSCORE]\n",
    "universityData"
   ]
  },
  {
   "cell_type": "code",
   "execution_count": null,
   "id": "ab49e2dd",
   "metadata": {},
   "outputs": [],
   "source": []
  }
 ],
 "metadata": {
  "kernelspec": {
   "display_name": "Python 3 (ipykernel)",
   "language": "python",
   "name": "python3"
  },
  "language_info": {
   "codemirror_mode": {
    "name": "ipython",
    "version": 3
   },
   "file_extension": ".py",
   "mimetype": "text/x-python",
   "name": "python",
   "nbconvert_exporter": "python",
   "pygments_lexer": "ipython3",
   "version": "3.9.13"
  }
 },
 "nbformat": 4,
 "nbformat_minor": 5
}
