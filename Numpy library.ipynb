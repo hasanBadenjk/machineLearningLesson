{
 "cells": [
  {
   "cell_type": "code",
   "execution_count": 1,
   "id": "7a711778",
   "metadata": {},
   "outputs": [],
   "source": [
    "import numpy as np"
   ]
  },
  {
   "cell_type": "code",
   "execution_count": 62,
   "id": "03b5decf",
   "metadata": {},
   "outputs": [
    {
     "name": "stdout",
     "output_type": "stream",
     "text": [
      "[80 65 87 20 40]\n"
     ]
    }
   ],
   "source": [
    "arr1 = np.array([80,65,87,20,40])\n",
    "print(arr1)"
   ]
  },
  {
   "cell_type": "code",
   "execution_count": 38,
   "id": "0192470e",
   "metadata": {},
   "outputs": [
    {
     "name": "stdout",
     "output_type": "stream",
     "text": [
      "\n",
      "(12,)\n",
      "\n",
      "<class 'numpy.ndarray'>\n"
     ]
    }
   ],
   "source": [
    "arr2 = np.array([10,20,30,40,50,60,70,75,80,85,90,95])\n",
    "print()\n",
    "print(arr2.shape)\n",
    "print()\n",
    "print(type(arr2))"
   ]
  },
  {
   "cell_type": "code",
   "execution_count": null,
   "id": "8f910ce9",
   "metadata": {},
   "outputs": [],
   "source": []
  },
  {
   "cell_type": "code",
   "execution_count": 9,
   "id": "2b2bc7ae",
   "metadata": {},
   "outputs": [
    {
     "name": "stdout",
     "output_type": "stream",
     "text": [
      "1.21.5\n"
     ]
    }
   ],
   "source": [
    "print(np.__version__)"
   ]
  },
  {
   "cell_type": "code",
   "execution_count": 36,
   "id": "cbd9c782",
   "metadata": {},
   "outputs": [
    {
     "name": "stdout",
     "output_type": "stream",
     "text": [
      "[[10 20 30]\n",
      " [40 50 60]\n",
      " [70 75 80]\n",
      " [85 90 95]]\n",
      "\n",
      "the shape of the array is: (4, 3)\n",
      "\n",
      "the diminstion of the array is: 2\n"
     ]
    }
   ],
   "source": [
    "\n",
    "newarr = arr2.reshape(4, 3)\n",
    "print(newarr)\n",
    "print()\n",
    "\n",
    "\n",
    "print(\"the shape of the array is:\",newarr.shape)\n",
    "print()\n",
    "\n",
    "print('the diminstion of the array is:',newarr.ndim)"
   ]
  },
  {
   "cell_type": "code",
   "execution_count": 27,
   "id": "1e6184dc",
   "metadata": {},
   "outputs": [
    {
     "name": "stdout",
     "output_type": "stream",
     "text": [
      "[[[10 20]\n",
      "  [30 40]\n",
      "  [50 60]]\n",
      "\n",
      " [[70 75]\n",
      "  [80 85]\n",
      "  [90 95]]]\n",
      "the shape of the array is: (2, 3, 2)\n",
      "the diminstion of the array is: 3\n"
     ]
    }
   ],
   "source": [
    "\n",
    "newarr1 = arr2.reshape(2, 3, 2)\n",
    "\n",
    "print(newarr1)\n",
    "\n",
    "print(\"the shape of the array is:\",newarr1.shape)\n",
    "print(\"the diminstion of the array is:\",newarr1.ndim)\n"
   ]
  },
  {
   "cell_type": "code",
   "execution_count": 28,
   "id": "54a4e2db",
   "metadata": {},
   "outputs": [
    {
     "name": "stdout",
     "output_type": "stream",
     "text": [
      "the date type of the array is: int32\n"
     ]
    }
   ],
   "source": [
    "print(\"the date type of the array is:\",newarr1.dtype.name)"
   ]
  },
  {
   "cell_type": "code",
   "execution_count": 21,
   "id": "0ef1b1b1",
   "metadata": {},
   "outputs": [
    {
     "name": "stdout",
     "output_type": "stream",
     "text": [
      "[10 20 30 40 50 60 70 75 80 85 90 95]\n"
     ]
    }
   ],
   "source": [
    "print(newarr1.reshape(3, 4).base)"
   ]
  },
  {
   "cell_type": "code",
   "execution_count": 37,
   "id": "f0185fef",
   "metadata": {},
   "outputs": [
    {
     "name": "stdout",
     "output_type": "stream",
     "text": [
      "the size of the array is 12\n"
     ]
    }
   ],
   "source": [
    "print(\"the size of the array is\",newarr1.size)"
   ]
  },
  {
   "cell_type": "code",
   "execution_count": 39,
   "id": "af0de8fb",
   "metadata": {},
   "outputs": [
    {
     "name": "stdout",
     "output_type": "stream",
     "text": [
      "[[25 87 90]\n",
      " [45 32 57]\n",
      " [ 1  5 77]\n",
      " [78 42 17]]\n"
     ]
    }
   ],
   "source": [
    "arr3 = np.array([[25,87,90],[45,32,57,],[1,5,77],[78,42,17]])\n",
    "print(arr3)"
   ]
  },
  {
   "cell_type": "code",
   "execution_count": 40,
   "id": "8e4c0d2c",
   "metadata": {},
   "outputs": [
    {
     "data": {
      "text/plain": [
       "(4, 3)"
      ]
     },
     "execution_count": 40,
     "metadata": {},
     "output_type": "execute_result"
    }
   ],
   "source": [
    "arr3.shape\n"
   ]
  },
  {
   "cell_type": "code",
   "execution_count": 41,
   "id": "bdb1760c",
   "metadata": {},
   "outputs": [
    {
     "name": "stdout",
     "output_type": "stream",
     "text": [
      "[[0. 0. 0. 0.]\n",
      " [0. 0. 0. 0.]\n",
      " [0. 0. 0. 0.]\n",
      " [0. 0. 0. 0.]]\n"
     ]
    }
   ],
   "source": [
    "zeroesarr = np.zeros((4,4))\n",
    "print(zeroesarr)"
   ]
  },
  {
   "cell_type": "code",
   "execution_count": 42,
   "id": "8aca1eb7",
   "metadata": {},
   "outputs": [
    {
     "name": "stdout",
     "output_type": "stream",
     "text": [
      "[[ 0.  0.  0.  0.]\n",
      " [ 0.  0.  0.  0.]\n",
      " [ 0.  0.  0.  0.]\n",
      " [ 0.  0. 10.  0.]]\n"
     ]
    }
   ],
   "source": [
    "zeroesarr[3,2] = 10\n",
    "print(zeroesarr)"
   ]
  },
  {
   "cell_type": "code",
   "execution_count": 43,
   "id": "a08d1169",
   "metadata": {},
   "outputs": [
    {
     "name": "stdout",
     "output_type": "stream",
     "text": [
      "[[1. 1.]\n",
      " [1. 1.]\n",
      " [1. 1.]]\n"
     ]
    }
   ],
   "source": [
    "onesarr = np.ones((3,2))\n",
    "print(onesarr)"
   ]
  },
  {
   "cell_type": "code",
   "execution_count": 46,
   "id": "cb967154",
   "metadata": {},
   "outputs": [
    {
     "name": "stdout",
     "output_type": "stream",
     "text": [
      "[[1. 3.]\n",
      " [1. 1.]\n",
      " [1. 1.]]\n"
     ]
    }
   ],
   "source": [
    "onesarr[0,1] = 3\n",
    "print(onesarr)"
   ]
  },
  {
   "cell_type": "code",
   "execution_count": 50,
   "id": "e0fcebb5",
   "metadata": {},
   "outputs": [
    {
     "data": {
      "text/plain": [
       "array([[4.45057637e-308, 1.78021527e-306, 8.45549797e-307,\n",
       "        1.37962049e-306],\n",
       "       [1.11260619e-306, 1.78010255e-306, 1.42409073e-306,\n",
       "        4.45058910e-308],\n",
       "       [8.45596650e-307, 9.34602321e-307, 4.94065646e-322,\n",
       "        3.60282749e+175]])"
      ]
     },
     "execution_count": 50,
     "metadata": {},
     "output_type": "execute_result"
    }
   ],
   "source": [
    "np.empty((3,4))"
   ]
  },
  {
   "cell_type": "code",
   "execution_count": 52,
   "id": "27062972",
   "metadata": {},
   "outputs": [
    {
     "data": {
      "text/plain": [
       "array([10, 13, 16, 19, 22, 25, 28, 31, 34, 37, 40, 43, 46, 49, 52, 55, 58,\n",
       "       61, 64, 67, 70, 73, 76, 79, 82, 85, 88, 91, 94])"
      ]
     },
     "execution_count": 52,
     "metadata": {},
     "output_type": "execute_result"
    }
   ],
   "source": [
    "np.arange(10,95,3)"
   ]
  },
  {
   "cell_type": "code",
   "execution_count": 55,
   "id": "f37351ac",
   "metadata": {},
   "outputs": [
    {
     "name": "stdout",
     "output_type": "stream",
     "text": [
      "Original Array:\n",
      "[[25 87 90]\n",
      " [45 32 57]\n",
      " [ 1  5 77]\n",
      " [78 42 17]]\n",
      "\n",
      "Transposed Array:\n",
      "[[25 45  1 78]\n",
      " [87 32  5 42]\n",
      " [90 57 77 17]]\n"
     ]
    }
   ],
   "source": [
    "print(f'Original Array:\\n{arr3}')\n",
    "print()\n",
    "\n",
    "arr3_transpose = arr3.transpose()\n",
    "\n",
    "print(f'Transposed Array:\\n{arr3_transpose}')"
   ]
  },
  {
   "cell_type": "code",
   "execution_count": 59,
   "id": "622a7ca1",
   "metadata": {},
   "outputs": [],
   "source": [
    "a = np.linspace(10,95,20)"
   ]
  },
  {
   "cell_type": "code",
   "execution_count": 64,
   "id": "2ad61420",
   "metadata": {},
   "outputs": [
    {
     "name": "stdout",
     "output_type": "stream",
     "text": [
      "[array([80, 65]), array([87, 20]), array([40])]\n"
     ]
    }
   ],
   "source": [
    "split_arr = np.array_split(arr1, 3)\n",
    "print(split_arr)"
   ]
  },
  {
   "cell_type": "code",
   "execution_count": 65,
   "id": "27148014",
   "metadata": {},
   "outputs": [
    {
     "name": "stdout",
     "output_type": "stream",
     "text": [
      "[80 65 87 20 40 10 20 30 40 50 60 70 75 80 85 90 95]\n"
     ]
    }
   ],
   "source": [
    "arr = np.concatenate((arr1, arr2))\n",
    "print(arr)"
   ]
  },
  {
   "cell_type": "code",
   "execution_count": 69,
   "id": "a1b3fc43",
   "metadata": {},
   "outputs": [
    {
     "name": "stdout",
     "output_type": "stream",
     "text": [
      "[ 1 35 35 27]\n",
      "[ 1 -1  3  7]\n"
     ]
    }
   ],
   "source": [
    "n = np.array([1,5,7,9])\n",
    "m = np.array([2,8,6,4])\n",
    "\n",
    "print((n*m)-n)\n",
    "print((n-m)+2)"
   ]
  },
  {
   "cell_type": "code",
   "execution_count": 74,
   "id": "1e09321d",
   "metadata": {},
   "outputs": [
    {
     "name": "stdout",
     "output_type": "stream",
     "text": [
      "[40 95 15 66 34 73 65 78] [40 95 15 66 34 73 65 78] [40 95 15 66 34 73 65 78]\n"
     ]
    }
   ],
   "source": [
    "a = np.array([40,95,56,66,34,73,65,78])\n",
    "f=a\n",
    "v=a\n",
    "v[2] = 15\n",
    "print(a,f,v)"
   ]
  },
  {
   "cell_type": "code",
   "execution_count": 75,
   "id": "9e004f90",
   "metadata": {},
   "outputs": [
    {
     "name": "stdout",
     "output_type": "stream",
     "text": [
      "[40 95 15 66 34 73 65 78]\n"
     ]
    }
   ],
   "source": [
    "d= a.copy()\n",
    "print(d)"
   ]
  },
  {
   "cell_type": "code",
   "execution_count": 76,
   "id": "46ad8ffb",
   "metadata": {},
   "outputs": [
    {
     "data": {
      "text/plain": [
       "array([40, 95, 15, 66, 34, 73, 65, 78])"
      ]
     },
     "execution_count": 76,
     "metadata": {},
     "output_type": "execute_result"
    }
   ],
   "source": [
    "d"
   ]
  },
  {
   "cell_type": "code",
   "execution_count": 77,
   "id": "08ec0a77",
   "metadata": {},
   "outputs": [
    {
     "data": {
      "text/plain": [
       "array([15, 66, 34])"
      ]
     },
     "execution_count": 77,
     "metadata": {},
     "output_type": "execute_result"
    }
   ],
   "source": [
    "d[2:5]"
   ]
  },
  {
   "cell_type": "code",
   "execution_count": 78,
   "id": "bbc4614f",
   "metadata": {},
   "outputs": [
    {
     "data": {
      "text/plain": [
       "array([78, 65, 73, 34, 66, 15, 95, 40])"
      ]
     },
     "execution_count": 78,
     "metadata": {},
     "output_type": "execute_result"
    }
   ],
   "source": [
    "d[::-1] #reverse\n"
   ]
  },
  {
   "cell_type": "code",
   "execution_count": 79,
   "id": "52556e59",
   "metadata": {},
   "outputs": [
    {
     "data": {
      "text/plain": [
       "array([[25, 87, 90],\n",
       "       [45, 32, 57],\n",
       "       [ 1,  5, 77],\n",
       "       [78, 42, 17]])"
      ]
     },
     "execution_count": 79,
     "metadata": {},
     "output_type": "execute_result"
    }
   ],
   "source": [
    "b = arr3.copy()\n",
    "b"
   ]
  },
  {
   "cell_type": "code",
   "execution_count": 80,
   "id": "617dae6e",
   "metadata": {},
   "outputs": [
    {
     "data": {
      "text/plain": [
       "array([90, 57, 77, 17])"
      ]
     },
     "execution_count": 80,
     "metadata": {},
     "output_type": "execute_result"
    }
   ],
   "source": [
    "b[:,2]"
   ]
  },
  {
   "cell_type": "code",
   "execution_count": 81,
   "id": "bc03d7a6",
   "metadata": {},
   "outputs": [
    {
     "data": {
      "text/plain": [
       "array([25, 87, 90])"
      ]
     },
     "execution_count": 81,
     "metadata": {},
     "output_type": "execute_result"
    }
   ],
   "source": [
    "b[0,:]"
   ]
  },
  {
   "cell_type": "code",
   "execution_count": 83,
   "id": "0406904d",
   "metadata": {},
   "outputs": [
    {
     "data": {
      "text/plain": [
       "array([1, 5])"
      ]
     },
     "execution_count": 83,
     "metadata": {},
     "output_type": "execute_result"
    }
   ],
   "source": [
    "b[2,0:2]"
   ]
  },
  {
   "cell_type": "code",
   "execution_count": 84,
   "id": "3e867996",
   "metadata": {},
   "outputs": [
    {
     "data": {
      "text/plain": [
       "array([78, 42, 17])"
      ]
     },
     "execution_count": 84,
     "metadata": {},
     "output_type": "execute_result"
    }
   ],
   "source": [
    "b[-1,:]"
   ]
  },
  {
   "cell_type": "code",
   "execution_count": 85,
   "id": "f0fd90ff",
   "metadata": {},
   "outputs": [
    {
     "data": {
      "text/plain": [
       "array([90, 57, 77, 17])"
      ]
     },
     "execution_count": 85,
     "metadata": {},
     "output_type": "execute_result"
    }
   ],
   "source": [
    "b[:,-1]"
   ]
  },
  {
   "cell_type": "code",
   "execution_count": 86,
   "id": "01eb672e",
   "metadata": {},
   "outputs": [
    {
     "name": "stdout",
     "output_type": "stream",
     "text": [
      "[25 87 90 45 32 57  1  5 77 78 42 17]\n"
     ]
    }
   ],
   "source": [
    "b = b.ravel()\n",
    "print(b)"
   ]
  },
  {
   "cell_type": "code",
   "execution_count": null,
   "id": "d047947f",
   "metadata": {},
   "outputs": [],
   "source": []
  }
 ],
 "metadata": {
  "kernelspec": {
   "display_name": "Python 3 (ipykernel)",
   "language": "python",
   "name": "python3"
  },
  "language_info": {
   "codemirror_mode": {
    "name": "ipython",
    "version": 3
   },
   "file_extension": ".py",
   "mimetype": "text/x-python",
   "name": "python",
   "nbconvert_exporter": "python",
   "pygments_lexer": "ipython3",
   "version": "3.9.13"
  }
 },
 "nbformat": 4,
 "nbformat_minor": 5
}
